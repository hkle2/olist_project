{
 "cells": [
  {
   "cell_type": "code",
   "execution_count": 7,
   "metadata": {},
   "outputs": [],
   "source": [
    "import pymysql\n",
    "import pandas as pd\n",
    "from matplotlib import pyplot as plt"
   ]
  },
  {
   "cell_type": "code",
   "execution_count": 8,
   "metadata": {},
   "outputs": [],
   "source": [
    "conn = pymysql.connect(\n",
    "    host=\"127.0.0.1\",\n",
    "    user=\"root\",\n",
    "    password=\"password\",\n",
    "    database=\"olist\"\n",
    ")"
   ]
  },
  {
   "cell_type": "code",
   "execution_count": 9,
   "metadata": {},
   "outputs": [],
   "source": [
    "pirce_sale_sql = \"\"\"\n",
    "    SELECT\n",
    "    \tcategory_name_translation.product_category_name_english AS category_name,\n",
    "    \tCOUNT(products.product_id) AS count_sales,\n",
    "        AVG(order_items.price) AS avg_price\n",
    "    FROM\n",
    "    \torder_items\n",
    "    INNER JOIN\n",
    "    \tproducts\n",
    "    ON\n",
    "    \torder_items.product_id = products.product_id\n",
    "    INNER JOIN\n",
    "    \tcategory_name_translation\n",
    "    ON\n",
    "    \tproducts.product_category_name = category_name_translation.product_category_name\n",
    "    GROUP BY\n",
    "    \tcategory_name\n",
    "    ORDER BY\n",
    "    \tcount_sales DESC;\n",
    "\"\"\""
   ]
  },
  {
   "cell_type": "code",
   "execution_count": 14,
   "metadata": {},
   "outputs": [
    {
     "name": "stderr",
     "output_type": "stream",
     "text": [
      "C:\\Users\\minni\\AppData\\Local\\Temp\\ipykernel_26700\\1741964492.py:1: UserWarning: pandas only supports SQLAlchemy connectable (engine/connection) or database string URI or sqlite3 DBAPI2 connection. Other DBAPI2 objects are not tested. Please consider using SQLAlchemy.\n",
      "  pirce_sale_df = pd.read_sql(pirce_sale_sql, conn)\n"
     ]
    }
   ],
   "source": [
    "pirce_sale_df = pd.read_sql(pirce_sale_sql, conn)\n",
    "pirce_sale_df = pirce_sale_df.set_index(\"category_name\")\n",
    "pirce_sale_df.to_csv(\"pirce_sales.csv\", header=True)"
   ]
  },
  {
   "cell_type": "code",
   "execution_count": 11,
   "metadata": {},
   "outputs": [
    {
     "data": {
      "text/html": [
       "<div>\n",
       "<style scoped>\n",
       "    .dataframe tbody tr th:only-of-type {\n",
       "        vertical-align: middle;\n",
       "    }\n",
       "\n",
       "    .dataframe tbody tr th {\n",
       "        vertical-align: top;\n",
       "    }\n",
       "\n",
       "    .dataframe thead th {\n",
       "        text-align: right;\n",
       "    }\n",
       "</style>\n",
       "<table border=\"1\" class=\"dataframe\">\n",
       "  <thead>\n",
       "    <tr style=\"text-align: right;\">\n",
       "      <th></th>\n",
       "      <th>count_sales</th>\n",
       "      <th>avg_price</th>\n",
       "    </tr>\n",
       "    <tr>\n",
       "      <th>category_name</th>\n",
       "      <th></th>\n",
       "      <th></th>\n",
       "    </tr>\n",
       "  </thead>\n",
       "  <tbody>\n",
       "    <tr>\n",
       "      <th>bed_bath_table</th>\n",
       "      <td>11115</td>\n",
       "      <td>93.296327</td>\n",
       "    </tr>\n",
       "    <tr>\n",
       "      <th>health_beauty</th>\n",
       "      <td>9670</td>\n",
       "      <td>130.163531</td>\n",
       "    </tr>\n",
       "    <tr>\n",
       "      <th>sports_leisure</th>\n",
       "      <td>8641</td>\n",
       "      <td>114.344285</td>\n",
       "    </tr>\n",
       "    <tr>\n",
       "      <th>furniture_decor</th>\n",
       "      <td>8334</td>\n",
       "      <td>87.564494</td>\n",
       "    </tr>\n",
       "    <tr>\n",
       "      <th>computers_accessories</th>\n",
       "      <td>7827</td>\n",
       "      <td>116.513903</td>\n",
       "    </tr>\n",
       "    <tr>\n",
       "      <th>...</th>\n",
       "      <td>...</td>\n",
       "      <td>...</td>\n",
       "    </tr>\n",
       "    <tr>\n",
       "      <th>arts_and_craftmanship</th>\n",
       "      <td>24</td>\n",
       "      <td>75.583750</td>\n",
       "    </tr>\n",
       "    <tr>\n",
       "      <th>la_cuisine</th>\n",
       "      <td>14</td>\n",
       "      <td>146.785000</td>\n",
       "    </tr>\n",
       "    <tr>\n",
       "      <th>cds_dvds_musicals</th>\n",
       "      <td>14</td>\n",
       "      <td>52.142857</td>\n",
       "    </tr>\n",
       "    <tr>\n",
       "      <th>fashion_childrens_clothes</th>\n",
       "      <td>8</td>\n",
       "      <td>71.231250</td>\n",
       "    </tr>\n",
       "    <tr>\n",
       "      <th>security_and_services</th>\n",
       "      <td>2</td>\n",
       "      <td>141.644997</td>\n",
       "    </tr>\n",
       "  </tbody>\n",
       "</table>\n",
       "<p>71 rows × 2 columns</p>\n",
       "</div>"
      ],
      "text/plain": [
       "                           count_sales   avg_price\n",
       "category_name                                     \n",
       "bed_bath_table                   11115   93.296327\n",
       "health_beauty                     9670  130.163531\n",
       "sports_leisure                    8641  114.344285\n",
       "furniture_decor                   8334   87.564494\n",
       "computers_accessories             7827  116.513903\n",
       "...                                ...         ...\n",
       "arts_and_craftmanship               24   75.583750\n",
       "la_cuisine                          14  146.785000\n",
       "cds_dvds_musicals                   14   52.142857\n",
       "fashion_childrens_clothes            8   71.231250\n",
       "security_and_services                2  141.644997\n",
       "\n",
       "[71 rows x 2 columns]"
      ]
     },
     "execution_count": 11,
     "metadata": {},
     "output_type": "execute_result"
    }
   ],
   "source": [
    "pirce_sale_df"
   ]
  },
  {
   "cell_type": "code",
   "execution_count": 12,
   "metadata": {},
   "outputs": [
    {
     "data": {
      "image/png": "[encoded data removed]",
      "text/plain": [
       "<Figure size 640x480 with 1 Axes>"
      ]
     },
     "metadata": {},
     "output_type": "display_data"
    }
   ],
   "source": [
    "plt.style.use(\"seaborn-v0_8-pastel\")\n",
    "figure = pirce_sale_df.plot(\n",
    "    kind=\"scatter\", \n",
    "    x=\"count_sales\", \n",
    "    y=\"avg_price\"\n",
    ")\n",
    "figure.set_title(\"Total Sales Count vs Average Price\", size=15, pad=15)\n",
    "plt.xlabel(\"Total Sales Count\")\n",
    "plt.ylabel(\"Average Price\")\n",
    "plt.savefig(\"price_sales.png\", bbox_inches='tight')"
   ]
  }
 ],
 "metadata": {
  "kernelspec": {
   "display_name": "Python 3 (ipykernel)",
   "language": "python",
   "name": "python3"
  },
  "language_info": {
   "codemirror_mode": {
    "name": "ipython",
    "version": 3
   },
   "file_extension": ".py",
   "mimetype": "text/x-python",
   "name": "python",
   "nbconvert_exporter": "python",
   "pygments_lexer": "ipython3",
   "version": "3.12.3"
  }
 },
 "nbformat": 4,
 "nbformat_minor": 4
}
