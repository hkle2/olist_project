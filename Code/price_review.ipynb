{
 "cells": [
  {
   "cell_type": "code",
   "execution_count": 1,
   "metadata": {},
   "outputs": [],
   "source": [
    "import pymysql\n",
    "import pandas as pd\n",
    "from matplotlib import pyplot as plt"
   ]
  },
  {
   "cell_type": "code",
   "execution_count": 2,
   "metadata": {},
   "outputs": [],
   "source": [
    "conn = pymysql.connect(\n",
    "    host=\"127.0.0.1\",\n",
    "    user=\"root\",\n",
    "    password=\"1250\",\n",
    "    database=\"olist\"\n",
    ")"
   ]
  },
  {
   "cell_type": "code",
   "execution_count": 3,
   "metadata": {},
   "outputs": [],
   "source": [
    "price_review_sql = \"\"\"\n",
    "    SELECT\n",
    "    \tcategory_name_translation.product_category_name_english AS category_name,\n",
    "    \tAVG(reviews.review_score) AS avg_review_score,\n",
    "        AVG(order_items.price) AS avg_price\n",
    "    FROM\n",
    "        reviews\n",
    "    INNER JOIN\n",
    "    \torder_items\n",
    "    ON\n",
    "        reviews.order_id = order_items.order_id\n",
    "    INNER JOIN\n",
    "    \tproducts\n",
    "    ON\n",
    "    \torder_items.product_id = products.product_id\n",
    "    INNER JOIN\n",
    "    \tcategory_name_translation\n",
    "    ON\n",
    "    \tproducts.product_category_name = category_name_translation.product_category_name\n",
    "    GROUP BY\n",
    "    \tcategory_name\n",
    "    ORDER BY\n",
    "    \tavg_review_score DESC;\n",
    "\"\"\""
   ]
  },
  {
   "cell_type": "code",
   "execution_count": 4,
   "metadata": {},
   "outputs": [
    {
     "name": "stderr",
     "output_type": "stream",
     "text": [
      "C:\\Users\\minni\\AppData\\Local\\Temp\\ipykernel_12828\\821926069.py:1: UserWarning: pandas only supports SQLAlchemy connectable (engine/connection) or database string URI or sqlite3 DBAPI2 connection. Other DBAPI2 objects are not tested. Please consider using SQLAlchemy.\n",
      "  price_review_df = pd.read_sql(price_review_sql, conn)\n"
     ]
    }
   ],
   "source": [
    "price_review_df = pd.read_sql(price_review_sql, conn)\n",
    "price_review_df = price_review_df.set_index(\"category_name\")\n",
    "price_review_df.to_csv('price_review.csv', header=True)"
   ]
  },
  {
   "cell_type": "code",
   "execution_count": 5,
   "metadata": {},
   "outputs": [
    {
     "data": {
      "text/html": [
       "<div>\n",
       "<style scoped>\n",
       "    .dataframe tbody tr th:only-of-type {\n",
       "        vertical-align: middle;\n",
       "    }\n",
       "\n",
       "    .dataframe tbody tr th {\n",
       "        vertical-align: top;\n",
       "    }\n",
       "\n",
       "    .dataframe thead th {\n",
       "        text-align: right;\n",
       "    }\n",
       "</style>\n",
       "<table border=\"1\" class=\"dataframe\">\n",
       "  <thead>\n",
       "    <tr style=\"text-align: right;\">\n",
       "      <th></th>\n",
       "      <th>avg_review_score</th>\n",
       "      <th>avg_price</th>\n",
       "    </tr>\n",
       "    <tr>\n",
       "      <th>category_name</th>\n",
       "      <th></th>\n",
       "      <th></th>\n",
       "    </tr>\n",
       "  </thead>\n",
       "  <tbody>\n",
       "    <tr>\n",
       "      <th>cds_dvds_musicals</th>\n",
       "      <td>4.6429</td>\n",
       "      <td>52.142857</td>\n",
       "    </tr>\n",
       "    <tr>\n",
       "      <th>fashion_childrens_clothes</th>\n",
       "      <td>4.5000</td>\n",
       "      <td>71.231250</td>\n",
       "    </tr>\n",
       "    <tr>\n",
       "      <th>books_general_interest</th>\n",
       "      <td>4.4463</td>\n",
       "      <td>84.845411</td>\n",
       "    </tr>\n",
       "    <tr>\n",
       "      <th>costruction_tools_tools</th>\n",
       "      <td>4.4444</td>\n",
       "      <td>159.335858</td>\n",
       "    </tr>\n",
       "    <tr>\n",
       "      <th>flowers</th>\n",
       "      <td>4.4194</td>\n",
       "      <td>32.265807</td>\n",
       "    </tr>\n",
       "    <tr>\n",
       "      <th>...</th>\n",
       "      <td>...</td>\n",
       "      <td>...</td>\n",
       "    </tr>\n",
       "    <tr>\n",
       "      <th>fashion_male_clothing</th>\n",
       "      <td>3.6412</td>\n",
       "      <td>80.937558</td>\n",
       "    </tr>\n",
       "    <tr>\n",
       "      <th>home_comfort_2</th>\n",
       "      <td>3.6296</td>\n",
       "      <td>26.724815</td>\n",
       "    </tr>\n",
       "    <tr>\n",
       "      <th>office_furniture</th>\n",
       "      <td>3.4932</td>\n",
       "      <td>161.434393</td>\n",
       "    </tr>\n",
       "    <tr>\n",
       "      <th>diapers_and_hygiene</th>\n",
       "      <td>3.2564</td>\n",
       "      <td>40.194615</td>\n",
       "    </tr>\n",
       "    <tr>\n",
       "      <th>security_and_services</th>\n",
       "      <td>2.5000</td>\n",
       "      <td>141.644997</td>\n",
       "    </tr>\n",
       "  </tbody>\n",
       "</table>\n",
       "<p>71 rows × 2 columns</p>\n",
       "</div>"
      ],
      "text/plain": [
       "                           avg_review_score   avg_price\n",
       "category_name                                          \n",
       "cds_dvds_musicals                    4.6429   52.142857\n",
       "fashion_childrens_clothes            4.5000   71.231250\n",
       "books_general_interest               4.4463   84.845411\n",
       "costruction_tools_tools              4.4444  159.335858\n",
       "flowers                              4.4194   32.265807\n",
       "...                                     ...         ...\n",
       "fashion_male_clothing                3.6412   80.937558\n",
       "home_comfort_2                       3.6296   26.724815\n",
       "office_furniture                     3.4932  161.434393\n",
       "diapers_and_hygiene                  3.2564   40.194615\n",
       "security_and_services                2.5000  141.644997\n",
       "\n",
       "[71 rows x 2 columns]"
      ]
     },
     "execution_count": 5,
     "metadata": {},
     "output_type": "execute_result"
    }
   ],
   "source": [
    "price_review_df"
   ]
  },
  {
   "cell_type": "code",
   "execution_count": 6,
   "metadata": {},
   "outputs": [
    {
     "data": {
      "image/png": "[encoded data removed]",
      "text/plain": [
       "<Figure size 640x480 with 1 Axes>"
      ]
     },
     "metadata": {},
     "output_type": "display_data"
    }
   ],
   "source": [
    "plt.style.use(\"seaborn-v0_8-pastel\")\n",
    "figure = price_review_df.plot(\n",
    "    kind=\"scatter\", \n",
    "    x=\"avg_review_score\", \n",
    "    y=\"avg_price\"\n",
    ")\n",
    "figure.set_title(\"Average Review Score vs Average Price\", size=15, pad=15)\n",
    "plt.xlabel(\"Average Review Score\")\n",
    "plt.ylabel(\"Average Price\")\n",
    "plt.savefig(\"price_review.png\", bbox_inches='tight')"
   ]
  }
 ],
 "metadata": {
  "kernelspec": {
   "display_name": "olist_v1",
   "language": "python",
   "name": "python3"
  },
  "language_info": {
   "codemirror_mode": {
    "name": "ipython",
    "version": 3
   },
   "file_extension": ".py",
   "mimetype": "text/x-python",
   "name": "python",
   "nbconvert_exporter": "python",
   "pygments_lexer": "ipython3",
   "version": "3.12.4"
  }
 },
 "nbformat": 4,
 "nbformat_minor": 2
}
