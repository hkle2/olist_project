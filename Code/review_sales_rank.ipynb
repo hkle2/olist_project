{
 "cells": [
  {
   "cell_type": "code",
   "execution_count": 1,
   "metadata": {},
   "outputs": [],
   "source": [
    "import pymysql\n",
    "import pandas as pd\n",
    "from matplotlib import pyplot as plt"
   ]
  },
  {
   "cell_type": "code",
   "execution_count": 2,
   "metadata": {},
   "outputs": [],
   "source": [
    "conn = pymysql.connect(\n",
    "    host=\"127.0.0.1\",\n",
    "    user=\"root\",\n",
    "    password=\"password\",\n",
    "    database=\"olist\"\n",
    ")"
   ]
  },
  {
   "cell_type": "code",
   "execution_count": 3,
   "metadata": {},
   "outputs": [],
   "source": [
    "review_selling_sql = \"\"\"\n",
    "    WITH sales_category AS (\n",
    "        SELECT\n",
    "        \tcategory_name_translation.product_category_name_english AS category_name,\n",
    "            ROW_NUMBER() OVER (ORDER BY COUNT(order_items.product_id) DESC) AS sales_rank\n",
    "        FROM\n",
    "        \torder_items\n",
    "        INNER JOIN\n",
    "        \tproducts\n",
    "        ON\n",
    "        \torder_items.product_id = products.product_id\n",
    "        INNER JOIN\n",
    "        \tcategory_name_translation\n",
    "        ON\n",
    "        \tproducts.product_category_name = category_name_translation.product_category_name\n",
    "        GROUP BY\n",
    "        \tcategory_name\n",
    "    ),\n",
    "    reviews_category AS (\n",
    "        SELECT\n",
    "        \tcategory_name_translation.product_category_name_english AS category_name,\n",
    "            ROW_NUMBER() OVER (ORDER BY AVG(reviews.review_score) DESC) AS reviews_rank\n",
    "        FROM\n",
    "        \treviews\n",
    "        INNER JOIN\n",
    "        \torder_items\n",
    "        ON\n",
    "        \treviews.order_id = order_items.order_id\n",
    "        INNER JOIN\n",
    "        \tproducts\n",
    "        ON\n",
    "        \torder_items.product_id = products.product_id\n",
    "        INNER JOIN\n",
    "        \tcategory_name_translation\n",
    "        ON\n",
    "        \tproducts.product_category_name = category_name_translation.product_category_name\n",
    "        GROUP BY\n",
    "        \tcategory_name\n",
    "    )\n",
    "    SELECT\n",
    "        sales_category.category_name,\n",
    "        sales_category.sales_rank,\n",
    "        reviews_category.reviews_rank\n",
    "    FROM\n",
    "        sales_category\n",
    "    INNER JOIN\n",
    "        reviews_category\n",
    "    ON\n",
    "        sales_category.category_name = reviews_category.category_name\n",
    "\"\"\""
   ]
  },
  {
   "cell_type": "code",
   "execution_count": 4,
   "metadata": {},
   "outputs": [
    {
     "name": "stderr",
     "output_type": "stream",
     "text": [
      "C:\\Users\\minni\\AppData\\Local\\Temp\\ipykernel_49804\\2630743135.py:1: UserWarning: pandas only supports SQLAlchemy connectable (engine/connection) or database string URI or sqlite3 DBAPI2 connection. Other DBAPI2 objects are not tested. Please consider using SQLAlchemy.\n",
      "  review_selling_df = pd.read_sql(review_selling_sql, conn)\n"
     ]
    }
   ],
   "source": [
    "review_selling_df = pd.read_sql(review_selling_sql, conn)\n",
    "review_selling_df = review_selling_df.set_index(\"category_name\")\n",
    "review_selling_df.to_csv(\"review_sales_rank.csv\", header=True)"
   ]
  },
  {
   "cell_type": "code",
   "execution_count": 5,
   "metadata": {},
   "outputs": [
    {
     "data": {
      "text/html": [
       "<div>\n",
       "<style scoped>\n",
       "    .dataframe tbody tr th:only-of-type {\n",
       "        vertical-align: middle;\n",
       "    }\n",
       "\n",
       "    .dataframe tbody tr th {\n",
       "        vertical-align: top;\n",
       "    }\n",
       "\n",
       "    .dataframe thead th {\n",
       "        text-align: right;\n",
       "    }\n",
       "</style>\n",
       "<table border=\"1\" class=\"dataframe\">\n",
       "  <thead>\n",
       "    <tr style=\"text-align: right;\">\n",
       "      <th></th>\n",
       "      <th>sales_rank</th>\n",
       "      <th>reviews_rank</th>\n",
       "    </tr>\n",
       "    <tr>\n",
       "      <th>category_name</th>\n",
       "      <th></th>\n",
       "      <th></th>\n",
       "    </tr>\n",
       "  </thead>\n",
       "  <tbody>\n",
       "    <tr>\n",
       "      <th>agro_industry_and_commerce</th>\n",
       "      <td>44</td>\n",
       "      <td>48</td>\n",
       "    </tr>\n",
       "    <tr>\n",
       "      <th>air_conditioning</th>\n",
       "      <td>35</td>\n",
       "      <td>51</td>\n",
       "    </tr>\n",
       "    <tr>\n",
       "      <th>art</th>\n",
       "      <td>45</td>\n",
       "      <td>55</td>\n",
       "    </tr>\n",
       "    <tr>\n",
       "      <th>arts_and_craftmanship</th>\n",
       "      <td>67</td>\n",
       "      <td>28</td>\n",
       "    </tr>\n",
       "    <tr>\n",
       "      <th>audio</th>\n",
       "      <td>32</td>\n",
       "      <td>62</td>\n",
       "    </tr>\n",
       "    <tr>\n",
       "      <th>...</th>\n",
       "      <td>...</td>\n",
       "      <td>...</td>\n",
       "    </tr>\n",
       "    <tr>\n",
       "      <th>stationery</th>\n",
       "      <td>16</td>\n",
       "      <td>16</td>\n",
       "    </tr>\n",
       "    <tr>\n",
       "      <th>tablets_printing_image</th>\n",
       "      <td>54</td>\n",
       "      <td>29</td>\n",
       "    </tr>\n",
       "    <tr>\n",
       "      <th>telephony</th>\n",
       "      <td>8</td>\n",
       "      <td>53</td>\n",
       "    </tr>\n",
       "    <tr>\n",
       "      <th>toys</th>\n",
       "      <td>11</td>\n",
       "      <td>21</td>\n",
       "    </tr>\n",
       "    <tr>\n",
       "      <th>watches_gifts</th>\n",
       "      <td>7</td>\n",
       "      <td>46</td>\n",
       "    </tr>\n",
       "  </tbody>\n",
       "</table>\n",
       "<p>71 rows × 2 columns</p>\n",
       "</div>"
      ],
      "text/plain": [
       "                            sales_rank  reviews_rank\n",
       "category_name                                       \n",
       "agro_industry_and_commerce          44            48\n",
       "air_conditioning                    35            51\n",
       "art                                 45            55\n",
       "arts_and_craftmanship               67            28\n",
       "audio                               32            62\n",
       "...                                ...           ...\n",
       "stationery                          16            16\n",
       "tablets_printing_image              54            29\n",
       "telephony                            8            53\n",
       "toys                                11            21\n",
       "watches_gifts                        7            46\n",
       "\n",
       "[71 rows x 2 columns]"
      ]
     },
     "execution_count": 5,
     "metadata": {},
     "output_type": "execute_result"
    }
   ],
   "source": [
    "review_selling_df"
   ]
  },
  {
   "cell_type": "code",
   "execution_count": 6,
   "metadata": {},
   "outputs": [
    {
     "data": {
      "image/png": "[encoded data removed]",
      "text/plain": [
       "<Figure size 640x480 with 1 Axes>"
      ]
     },
     "metadata": {},
     "output_type": "display_data"
    }
   ],
   "source": [
    "plt.style.use(\"seaborn-v0_8-pastel\")\n",
    "figure = review_selling_df.plot(\n",
    "    kind=\"scatter\", \n",
    "    x=\"reviews_rank\", \n",
    "    y=\"sales_rank\"\n",
    ")\n",
    "figure.set_title(\"Review Rank vs Sales Rank\", size=15, pad=15)\n",
    "plt.xlabel(\"Review Rank\")\n",
    "plt.ylabel(\"Sales Rank\")\n",
    "plt.savefig(\"review_sales_rank.png\", bbox_inches='tight')"
   ]
  }
 ],
 "metadata": {
  "kernelspec": {
   "display_name": "Python 3 (ipykernel)",
   "language": "python",
   "name": "python3"
  },
  "language_info": {
   "codemirror_mode": {
    "name": "ipython",
    "version": 3
   },
   "file_extension": ".py",
   "mimetype": "text/x-python",
   "name": "python",
   "nbconvert_exporter": "python",
   "pygments_lexer": "ipython3",
   "version": "3.12.3"
  }
 },
 "nbformat": 4,
 "nbformat_minor": 4
}
