{
 "cells": [
  {
   "cell_type": "code",
   "execution_count": 1,
   "metadata": {},
   "outputs": [],
   "source": [
    "import pymysql\n",
    "import pandas as pd\n",
    "from matplotlib import pyplot as plt"
   ]
  },
  {
   "cell_type": "code",
   "execution_count": 2,
   "metadata": {},
   "outputs": [],
   "source": [
    "conn = pymysql.connect(\n",
    "    host=\"127.0.0.1\",\n",
    "    user=\"root\",\n",
    "    password=\"password\",\n",
    "    database=\"olist\"\n",
    ")"
   ]
  },
  {
   "cell_type": "code",
   "execution_count": 3,
   "metadata": {},
   "outputs": [],
   "source": [
    "repurchase_sales_sql = \"\"\"\n",
    "    WITH total_order AS (\n",
    "    \tSELECT\n",
    "    \t\tcategory_name_translation.product_category_name_english AS category_name,\n",
    "    \t\torders.customer_id,\n",
    "    \t\tCOUNT(orders.order_id) AS cnt_order\n",
    "    \tFROM\n",
    "    \t\torders\n",
    "    \tINNER JOIN\n",
    "    \t\torder_items\n",
    "    \tON\n",
    "    \t\torders.order_id = order_items.order_id\n",
    "    \tINNER JOIN\n",
    "    \t\tproducts\n",
    "    \tON\n",
    "    \t\torder_items.product_id = products.product_id\n",
    "    \tINNER JOIN\n",
    "    \t\tcategory_name_translation\n",
    "    \tON\n",
    "    \t\tproducts.product_category_name = category_name_translation.product_category_name\n",
    "        WHERE\n",
    "            orders.order_status = 'delivered'\n",
    "    \tGROUP BY\n",
    "    \t\tcategory_name, customer_id\n",
    "    ),\n",
    "    category_repurchase AS (\n",
    "    \tSELECT\n",
    "    \t\tcategory_name,\n",
    "    \t\t(SUM(IF (cnt_order > 1, 1, 0)) / COUNT(cnt_order)) * 100 AS repurchase_rate\n",
    "    \tFROM\n",
    "    \t\ttotal_order\n",
    "    \tGROUP BY\n",
    "    \t\tcategory_name\n",
    "    ),\n",
    "    cnt_sales AS (\n",
    "        SELECT\n",
    "            category_name_translation.product_category_name_english AS category_name,\n",
    "            COUNT(order_items.product_id) AS count_sales\n",
    "        FROM\n",
    "            order_items\n",
    "    \tINNER JOIN\n",
    "    \t\tproducts\n",
    "    \tON\n",
    "    \t\torder_items.product_id = products.product_id\n",
    "    \tINNER JOIN\n",
    "    \t\torders\n",
    "    \tON\n",
    "    \t\torder_items.order_id = orders.order_id\n",
    "    \tINNER JOIN\n",
    "    \t\tcategory_name_translation\n",
    "    \tON\n",
    "    \t\tproducts.product_category_name = category_name_translation.product_category_name\n",
    "        GROUP BY\n",
    "            category_name\n",
    "    )\n",
    "    SELECT\n",
    "    \tcategory_repurchase.category_name,\n",
    "        cnt_sales.count_sales,\n",
    "    \tcategory_repurchase.repurchase_rate\n",
    "    FROM\n",
    "    \tcategory_repurchase\n",
    "    INNER JOIN\n",
    "    \tcnt_sales\n",
    "    ON\n",
    "    \tcategory_repurchase.category_name = cnt_sales.category_name\n",
    "    ORDER BY\n",
    "    \tcount_sales DESC;\n",
    "\"\"\""
   ]
  },
  {
   "cell_type": "code",
   "execution_count": 4,
   "metadata": {},
   "outputs": [
    {
     "name": "stderr",
     "output_type": "stream",
     "text": [
      "C:\\Users\\minni\\AppData\\Local\\Temp\\ipykernel_41124\\571704793.py:1: UserWarning: pandas only supports SQLAlchemy connectable (engine/connection) or database string URI or sqlite3 DBAPI2 connection. Other DBAPI2 objects are not tested. Please consider using SQLAlchemy.\n",
      "  repurchase_sales_df = pd.read_sql(repurchase_sales_sql, conn)\n"
     ]
    }
   ],
   "source": [
    "repurchase_sales_df = pd.read_sql(repurchase_sales_sql, conn)\n",
    "repurchase_sales_df = repurchase_sales_df.set_index(\"category_name\")\n",
    "repurchase_sales_df.to_csv(\"repurchase_sales.csv\", header=True)"
   ]
  },
  {
   "cell_type": "code",
   "execution_count": 5,
   "metadata": {},
   "outputs": [
    {
     "data": {
      "text/html": [
       "<div>\n",
       "<style scoped>\n",
       "    .dataframe tbody tr th:only-of-type {\n",
       "        vertical-align: middle;\n",
       "    }\n",
       "\n",
       "    .dataframe tbody tr th {\n",
       "        vertical-align: top;\n",
       "    }\n",
       "\n",
       "    .dataframe thead th {\n",
       "        text-align: right;\n",
       "    }\n",
       "</style>\n",
       "<table border=\"1\" class=\"dataframe\">\n",
       "  <thead>\n",
       "    <tr style=\"text-align: right;\">\n",
       "      <th></th>\n",
       "      <th>count_sales</th>\n",
       "      <th>repurchase_rate</th>\n",
       "    </tr>\n",
       "    <tr>\n",
       "      <th>category_name</th>\n",
       "      <th></th>\n",
       "      <th></th>\n",
       "    </tr>\n",
       "  </thead>\n",
       "  <tbody>\n",
       "    <tr>\n",
       "      <th>bed_bath_table</th>\n",
       "      <td>11115</td>\n",
       "      <td>13.7295</td>\n",
       "    </tr>\n",
       "    <tr>\n",
       "      <th>health_beauty</th>\n",
       "      <td>9670</td>\n",
       "      <td>7.0198</td>\n",
       "    </tr>\n",
       "    <tr>\n",
       "      <th>sports_leisure</th>\n",
       "      <td>8641</td>\n",
       "      <td>9.2165</td>\n",
       "    </tr>\n",
       "    <tr>\n",
       "      <th>furniture_decor</th>\n",
       "      <td>8334</td>\n",
       "      <td>19.2802</td>\n",
       "    </tr>\n",
       "    <tr>\n",
       "      <th>computers_accessories</th>\n",
       "      <td>7827</td>\n",
       "      <td>11.2557</td>\n",
       "    </tr>\n",
       "    <tr>\n",
       "      <th>...</th>\n",
       "      <td>...</td>\n",
       "      <td>...</td>\n",
       "    </tr>\n",
       "    <tr>\n",
       "      <th>arts_and_craftmanship</th>\n",
       "      <td>24</td>\n",
       "      <td>4.3478</td>\n",
       "    </tr>\n",
       "    <tr>\n",
       "      <th>la_cuisine</th>\n",
       "      <td>14</td>\n",
       "      <td>7.6923</td>\n",
       "    </tr>\n",
       "    <tr>\n",
       "      <th>cds_dvds_musicals</th>\n",
       "      <td>14</td>\n",
       "      <td>16.6667</td>\n",
       "    </tr>\n",
       "    <tr>\n",
       "      <th>fashion_childrens_clothes</th>\n",
       "      <td>8</td>\n",
       "      <td>0.0000</td>\n",
       "    </tr>\n",
       "    <tr>\n",
       "      <th>security_and_services</th>\n",
       "      <td>2</td>\n",
       "      <td>0.0000</td>\n",
       "    </tr>\n",
       "  </tbody>\n",
       "</table>\n",
       "<p>71 rows × 2 columns</p>\n",
       "</div>"
      ],
      "text/plain": [
       "                           count_sales  repurchase_rate\n",
       "category_name                                          \n",
       "bed_bath_table                   11115          13.7295\n",
       "health_beauty                     9670           7.0198\n",
       "sports_leisure                    8641           9.2165\n",
       "furniture_decor                   8334          19.2802\n",
       "computers_accessories             7827          11.2557\n",
       "...                                ...              ...\n",
       "arts_and_craftmanship               24           4.3478\n",
       "la_cuisine                          14           7.6923\n",
       "cds_dvds_musicals                   14          16.6667\n",
       "fashion_childrens_clothes            8           0.0000\n",
       "security_and_services                2           0.0000\n",
       "\n",
       "[71 rows x 2 columns]"
      ]
     },
     "execution_count": 5,
     "metadata": {},
     "output_type": "execute_result"
    }
   ],
   "source": [
    "repurchase_sales_df"
   ]
  },
  {
   "cell_type": "code",
   "execution_count": 6,
   "metadata": {},
   "outputs": [
    {
     "data": {
      "image/png": "[encoded data removed]",
      "text/plain": [
       "<Figure size 640x480 with 1 Axes>"
      ]
     },
     "metadata": {},
     "output_type": "display_data"
    }
   ],
   "source": [
    "plt.style.use(\"seaborn-v0_8-pastel\")\n",
    "figure = repurchase_sales_df.plot(\n",
    "    kind=\"scatter\", \n",
    "    x=\"count_sales\", \n",
    "    y=\"repurchase_rate\"\n",
    ")\n",
    "figure.set_title(\"Total Sales Count vs Repurchase Rate\", size=15, pad=15)\n",
    "plt.xlabel(\"Total Sales Count\")\n",
    "plt.ylabel(\"Repurchase Rate\")\n",
    "plt.savefig(\"repurchase_sales.png\", bbox_inches='tight')"
   ]
  }
 ],
 "metadata": {
  "kernelspec": {
   "display_name": "Python 3 (ipykernel)",
   "language": "python",
   "name": "python3"
  },
  "language_info": {
   "codemirror_mode": {
    "name": "ipython",
    "version": 3
   },
   "file_extension": ".py",
   "mimetype": "text/x-python",
   "name": "python",
   "nbconvert_exporter": "python",
   "pygments_lexer": "ipython3",
   "version": "3.12.3"
  }
 },
 "nbformat": 4,
 "nbformat_minor": 4
}
