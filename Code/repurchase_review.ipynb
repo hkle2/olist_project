{
 "cells": [
  {
   "cell_type": "code",
   "execution_count": 1,
   "metadata": {},
   "outputs": [],
   "source": [
    "import pymysql\n",
    "import pandas as pd\n",
    "from matplotlib import pyplot as plt"
   ]
  },
  {
   "cell_type": "code",
   "execution_count": 2,
   "metadata": {},
   "outputs": [],
   "source": [
    "conn = pymysql.connect(\n",
    "    host=\"127.0.0.1\",\n",
    "    user=\"root\",\n",
    "    password=\"password\",\n",
    "    database=\"olist\"\n",
    ")"
   ]
  },
  {
   "cell_type": "code",
   "execution_count": 7,
   "metadata": {},
   "outputs": [],
   "source": [
    "repurchase_review_sql = \"\"\"\n",
    "    WITH total_order AS (\n",
    "    \tSELECT\n",
    "    \t\tcategory_name_translation.product_category_name_english AS category_name,\n",
    "    \t\torders.customer_id,\n",
    "    \t\tCOUNT(orders.order_id) AS cnt_order\n",
    "    \tFROM\n",
    "    \t\torders\n",
    "    \tINNER JOIN\n",
    "    \t\torder_items\n",
    "    \tON\n",
    "    \t\torders.order_id = order_items.order_id\n",
    "    \tINNER JOIN\n",
    "    \t\tproducts\n",
    "    \tON\n",
    "    \t\torder_items.product_id = products.product_id\n",
    "    \tINNER JOIN\n",
    "    \t\tcategory_name_translation\n",
    "    \tON\n",
    "    \t\tproducts.product_category_name = category_name_translation.product_category_name\n",
    "    \tWHERE\n",
    "    \t\torders.order_status = 'delivered'\n",
    "    \tGROUP BY\n",
    "    \t\tcategory_name, customer_id\n",
    "    ),\n",
    "    category_repurchase AS (\n",
    "    \tSELECT\n",
    "    \t\tcategory_name,\n",
    "    \t\t(SUM(IF (cnt_order > 1, 1, 0)) / COUNT(cnt_order)) * 100 AS repurchase_rate\n",
    "    \tFROM\n",
    "    \t\ttotal_order\n",
    "    \tGROUP BY\n",
    "    \t\tcategory_name\n",
    "    ),\n",
    "    avg_review AS (\n",
    "    \tSELECT\n",
    "    \t\tcategory_name_translation.product_category_name_english AS category_name,\n",
    "    \t\tAVG(reviews.review_score) AS avg_review_score\n",
    "    \tFROM\n",
    "    \t\treviews\n",
    "    \tINNER JOIN\n",
    "    \t\torder_items\n",
    "    \tON\n",
    "    \t\treviews.order_id = order_items.order_id\n",
    "    \tINNER JOIN\n",
    "    \t\tproducts\n",
    "    \tON\n",
    "    \t\torder_items.product_id = products.product_id\n",
    "    \tINNER JOIN\n",
    "    \t\tcategory_name_translation\n",
    "    \tON\n",
    "    \t\tproducts.product_category_name = category_name_translation.product_category_name\n",
    "    \tGROUP BY\n",
    "    \t\tcategory_name\n",
    "    )\n",
    "    SELECT\n",
    "    \tcategory_repurchase.category_name,\n",
    "        avg_review.avg_review_score,\n",
    "    \tcategory_repurchase.repurchase_rate\n",
    "    FROM\n",
    "    \tcategory_repurchase\n",
    "    INNER JOIN\n",
    "    \tavg_review\n",
    "    ON\n",
    "    \tcategory_repurchase.category_name = avg_review.category_name\n",
    "    ORDER BY\n",
    "    \tavg_review_score DESC;\n",
    "\"\"\""
   ]
  },
  {
   "cell_type": "code",
   "execution_count": 8,
   "metadata": {},
   "outputs": [
    {
     "name": "stderr",
     "output_type": "stream",
     "text": [
      "C:\\Users\\minni\\AppData\\Local\\Temp\\ipykernel_40876\\51252261.py:1: UserWarning: pandas only supports SQLAlchemy connectable (engine/connection) or database string URI or sqlite3 DBAPI2 connection. Other DBAPI2 objects are not tested. Please consider using SQLAlchemy.\n",
      "  repurchase_review_df = pd.read_sql(repurchase_review_sql, conn)\n"
     ]
    }
   ],
   "source": [
    "repurchase_review_df = pd.read_sql(repurchase_review_sql, conn)\n",
    "repurchase_review_df = repurchase_review_df.set_index(\"category_name\")\n",
    "repurchase_review_df.to_csv(\"repurchase_review.csv\", header=True)"
   ]
  },
  {
   "cell_type": "code",
   "execution_count": 9,
   "metadata": {},
   "outputs": [
    {
     "data": {
      "text/html": [
       "<div>\n",
       "<style scoped>\n",
       "    .dataframe tbody tr th:only-of-type {\n",
       "        vertical-align: middle;\n",
       "    }\n",
       "\n",
       "    .dataframe tbody tr th {\n",
       "        vertical-align: top;\n",
       "    }\n",
       "\n",
       "    .dataframe thead th {\n",
       "        text-align: right;\n",
       "    }\n",
       "</style>\n",
       "<table border=\"1\" class=\"dataframe\">\n",
       "  <thead>\n",
       "    <tr style=\"text-align: right;\">\n",
       "      <th></th>\n",
       "      <th>avg_review_score</th>\n",
       "      <th>repurchase_rate</th>\n",
       "    </tr>\n",
       "    <tr>\n",
       "      <th>category_name</th>\n",
       "      <th></th>\n",
       "      <th></th>\n",
       "    </tr>\n",
       "  </thead>\n",
       "  <tbody>\n",
       "    <tr>\n",
       "      <th>cds_dvds_musicals</th>\n",
       "      <td>4.6429</td>\n",
       "      <td>16.6667</td>\n",
       "    </tr>\n",
       "    <tr>\n",
       "      <th>fashion_childrens_clothes</th>\n",
       "      <td>4.5000</td>\n",
       "      <td>0.0000</td>\n",
       "    </tr>\n",
       "    <tr>\n",
       "      <th>books_general_interest</th>\n",
       "      <td>4.4463</td>\n",
       "      <td>6.2500</td>\n",
       "    </tr>\n",
       "    <tr>\n",
       "      <th>costruction_tools_tools</th>\n",
       "      <td>4.4444</td>\n",
       "      <td>6.1856</td>\n",
       "    </tr>\n",
       "    <tr>\n",
       "      <th>flowers</th>\n",
       "      <td>4.4194</td>\n",
       "      <td>13.7931</td>\n",
       "    </tr>\n",
       "    <tr>\n",
       "      <th>...</th>\n",
       "      <td>...</td>\n",
       "      <td>...</td>\n",
       "    </tr>\n",
       "    <tr>\n",
       "      <th>fashion_male_clothing</th>\n",
       "      <td>3.6412</td>\n",
       "      <td>14.1509</td>\n",
       "    </tr>\n",
       "    <tr>\n",
       "      <th>home_comfort_2</th>\n",
       "      <td>3.6296</td>\n",
       "      <td>20.8333</td>\n",
       "    </tr>\n",
       "    <tr>\n",
       "      <th>office_furniture</th>\n",
       "      <td>3.4932</td>\n",
       "      <td>18.1021</td>\n",
       "    </tr>\n",
       "    <tr>\n",
       "      <th>diapers_and_hygiene</th>\n",
       "      <td>3.2564</td>\n",
       "      <td>16.0000</td>\n",
       "    </tr>\n",
       "    <tr>\n",
       "      <th>security_and_services</th>\n",
       "      <td>2.5000</td>\n",
       "      <td>0.0000</td>\n",
       "    </tr>\n",
       "  </tbody>\n",
       "</table>\n",
       "<p>71 rows × 2 columns</p>\n",
       "</div>"
      ],
      "text/plain": [
       "                           avg_review_score  repurchase_rate\n",
       "category_name                                               \n",
       "cds_dvds_musicals                    4.6429          16.6667\n",
       "fashion_childrens_clothes            4.5000           0.0000\n",
       "books_general_interest               4.4463           6.2500\n",
       "costruction_tools_tools              4.4444           6.1856\n",
       "flowers                              4.4194          13.7931\n",
       "...                                     ...              ...\n",
       "fashion_male_clothing                3.6412          14.1509\n",
       "home_comfort_2                       3.6296          20.8333\n",
       "office_furniture                     3.4932          18.1021\n",
       "diapers_and_hygiene                  3.2564          16.0000\n",
       "security_and_services                2.5000           0.0000\n",
       "\n",
       "[71 rows x 2 columns]"
      ]
     },
     "execution_count": 9,
     "metadata": {},
     "output_type": "execute_result"
    }
   ],
   "source": [
    "repurchase_review_df"
   ]
  },
  {
   "cell_type": "code",
   "execution_count": 11,
   "metadata": {},
   "outputs": [
    {
     "data": {
      "image/png": "[encoded data removed]",
      "text/plain": [
       "<Figure size 640x480 with 1 Axes>"
      ]
     },
     "metadata": {},
     "output_type": "display_data"
    }
   ],
   "source": [
    "plt.style.use(\"seaborn-v0_8-pastel\")\n",
    "figure = repurchase_review_df.plot(\n",
    "    kind=\"scatter\", \n",
    "    x=\"avg_review_score\", \n",
    "    y=\"repurchase_rate\"\n",
    ")\n",
    "figure.set_title(\"Average Review Score vs Repurchase Rate\", size=15, pad=15)\n",
    "plt.xlabel(\"Average Review Score\")\n",
    "plt.ylabel(\"Repurchase Rate\")\n",
    "plt.savefig(\"repurchase_review.png\", bbox_inches='tight')"
   ]
  }
 ],
 "metadata": {
  "kernelspec": {
   "display_name": "Python 3 (ipykernel)",
   "language": "python",
   "name": "python3"
  },
  "language_info": {
   "codemirror_mode": {
    "name": "ipython",
    "version": 3
   },
   "file_extension": ".py",
   "mimetype": "text/x-python",
   "name": "python",
   "nbconvert_exporter": "python",
   "pygments_lexer": "ipython3",
   "version": "3.12.3"
  }
 },
 "nbformat": 4,
 "nbformat_minor": 4
}
